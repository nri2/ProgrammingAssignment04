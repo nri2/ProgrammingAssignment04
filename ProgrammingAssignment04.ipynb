{
 "cells": [
  {
   "cell_type": "markdown",
   "id": "34e889f9-09e5-448f-8665-eedea26b19e4",
   "metadata": {},
   "source": [
    "# Programming Assignment #4\n"
   ]
  },
  {
   "cell_type": "markdown",
   "id": "b20069fa-1790-4d28-a662-3c4e2a39bba6",
   "metadata": {},
   "source": [
    "## 1. Linear Regression using scikit-learn\n",
    "\n",
    "The diamonds dataset contains the price, cut, color, and other characteristics of a sample of nearly 54,000 diamonds. This data can be used to predict the price of a diamond based on its characteristics. Use sklearn's LinearRegression() function to predict the price of a diamond from the diamond's carat and table values.\n",
    "\n",
    "- Import needed packages for regression.\n",
    "- Initialize and fit a multiple linear regression model.\n",
    "- Get the estimated intercept weight.\n",
    "- Get the estimated weights of the carat and table features.\n",
    "- Predict the price of a diamond with the user-input carat and table values.\n",
    "\n",
    "Ex: If the input is:\n",
    "\n",
    "- 0.5\n",
    "- 60\n",
    "\n",
    "the output should be:\n",
    "\n",
    "- Intercept is 1961.992\n",
    "- Weights for carat and table features are [7820.038  -74.301]\n",
    "- Predicted price is [1413.97]"
   ]
  },
  {
   "cell_type": "code",
   "execution_count": 30,
   "id": "a53a2258-85ec-4f9c-9044-a3e03ea0f1be",
   "metadata": {},
   "outputs": [
    {
     "name": "stdin",
     "output_type": "stream",
     "text": [
      "Enter carat value:  0.2\n",
      "Enter table value:  35\n"
     ]
    },
    {
     "name": "stdout",
     "output_type": "stream",
     "text": [
      "Intercept is 1961.992\n",
      "Weights for carat and table features are [7820.03788357  -74.30074671]\n",
      "Predicted price is [925.47377487]\n"
     ]
    }
   ],
   "source": [
    "import pandas as pd\n",
    "from sklearn.linear_model import LinearRegression\n",
    "\n",
    "# Silence warnings\n",
    "import warnings\n",
    "warnings.filterwarnings('ignore')\n",
    "\n",
    "# Input feature values for a sample instance\n",
    "carat = float(input(\"Enter carat value: \"))\n",
    "table = float(input(\"Enter table value: \"))\n",
    "\n",
    "# Load the diamonds dataset from a CSV file \n",
    "diamonds = pd.read_csv('diamonds.csv')\n",
    "\n",
    "# Define input (X) and output (y) features\n",
    "X = diamonds[['carat', 'table']]\n",
    "y = diamonds['price']\n",
    "\n",
    "# Initialize a multiple linear regression model\n",
    "model = LinearRegression()\n",
    "\n",
    "# Fit the model\n",
    "model.fit(X, y)\n",
    "\n",
    "# Get estimated intercept weight\n",
    "intercept = model.intercept_\n",
    "print('Intercept is', round(intercept, 3))\n",
    "\n",
    "# Get estimated weights for carat and table features\n",
    "coefficients = model.coef_\n",
    "print('Weights for carat and table features are', coefficients)\n",
    "\n",
    "# Predict the price based on user input carand table values\n",
    "predicted_price = model.predict([[carat, table]])\n",
    "print('Predicted price is', predicted_price)\n"
   ]
  },
  {
   "cell_type": "markdown",
   "id": "0b9a1bf4-3a82-480d-9222-a116a099fb3f",
   "metadata": {},
   "source": [
    "# "
   ]
  },
  {
   "cell_type": "markdown",
   "id": "bc74160c-0366-4a16-b131-effedf232ce5",
   "metadata": {},
   "source": [
    "## 2. Logistic Regression using scikit-learn\n",
    "\n",
    "The **nbaallelo_log** file contains data on 126314 NBA games from 1947 to 2015. The dataset includes the features **pts, elo_i, win_equiv, and game_result**. Using the csv file **nbaallelo_log.csv** and scikit-learn's **LogisticRegression()** function, construct a logistic regression model to classify whether a team will win or lose a game based on the team's elo_i score.\n",
    "\n",
    "- Create a binary feature win for **game_result** with 0 for L and 1 for W\n",
    "- Use the **LogisticRegression()** function to construct a logistic regression model with **win** as the target and **elo_i** as the predictor\n",
    "- Print the weights and intercept of the fitted model\n",
    "- Find the proportion of instances correctly classified\n",
    "  \n",
    "Note: Use **ravel()** from **numpy** to flatten the second argument of **LogisticRegression.fit()** into a 1-D array.\n",
    "\n",
    "Ex: If the program uses the file **nbaallelo_small.csv**, which contains 100 instances, the output is:\n",
    "\n",
    "- w1: [[0.01585017]]\n",
    "- w0: [-20.5926668]\n",
    "- 0.62"
   ]
  },
  {
   "cell_type": "code",
   "execution_count": 31,
   "id": "4045d6c1-6b4b-4cb8-b603-377bc6eb57bd",
   "metadata": {},
   "outputs": [
    {
     "name": "stdout",
     "output_type": "stream",
     "text": [
      "Weights (w1): [[0.00437846]]\n",
      "Intercept (w0): [-6.55026145]\n",
      "Accuracy: 0.5968\n"
     ]
    }
   ],
   "source": [
    "import pandas as pd\n",
    "from sklearn.linear_model import LogisticRegression\n",
    "from sklearn.model_selection import train_test_split\n",
    "from sklearn.metrics import accuracy_score\n",
    "\n",
    "# Load the dataset\n",
    "nba_data_small = pd.read_csv('nbaallelo_log.csv')  \n",
    "\n",
    "# Convert the 'game_result' column into a binary target variable 'win' (0 for Loss 'L', 1 for Win 'W')\n",
    "nba_data_small['win'] = nba_data_small['game_result'].apply(lambda x: 1 if x == 'W' else 0)\n",
    "\n",
    "# Define the feature (elo_i) and the target (win)\n",
    "X = nba_data_small[['elo_i']]  # elo_i is the predictor\n",
    "y = nba_data_small['win']      # win is the binary target\n",
    "\n",
    "# Split the dataset into training and testing sets (80% training, 20% testing)\n",
    "X_train, X_test, y_train, y_test = train_test_split(X, y, test_size=0.2, random_state=42)\n",
    "\n",
    "# Initialize the Logistic Regression model with a large number of iterations to ensure convergence\n",
    "model = LogisticRegression(max_iter=1000)\n",
    "\n",
    "# Fit the model to the training data\n",
    "model.fit(X_train, y_train.ravel())\n",
    "\n",
    "# Print the model's weights (coefficients) and intercept\n",
    "print('Weights (w1):', model.coef_)\n",
    "print('Intercept (w0):', model.intercept_)\n",
    "\n",
    "# Predict the class labels on the test set\n",
    "y_pred = model.predict(X_test)\n",
    "\n",
    "# Calculate the accuracy of the model on the test set\n",
    "accuracy = accuracy_score(y_test, y_pred)\n",
    "print(f'Accuracy: {accuracy:.4f}')\n"
   ]
  },
  {
   "cell_type": "code",
   "execution_count": null,
   "id": "a07d6f72-fff5-4ffd-b79d-cc89c2e6a5ed",
   "metadata": {},
   "outputs": [],
   "source": []
  },
  {
   "cell_type": "markdown",
   "id": "a8380de5-1123-4ae4-a35e-7067ae25bb61",
   "metadata": {},
   "source": [
    "## 3. Support Vector Classifier using scikit-learn\n",
    "\n",
    "The heart dataset contains 13 health-related attributes from 303 patients and one attribute denoting whether or not the patient has heart disease. Using the file heart.csv and scikit-learn's LinearSVC() function, fit a support vector classifier to predict whether a patient has heart disease based on other health attributes.\n",
    "\n",
    "- Import the correct packages and functions.\n",
    "- Split the data into 75% training data and 25% testing data. Set random_state=123.\n",
    "- Initialize and fit a support vector classifier with C=0.2, a maximum of 500 iterations, and random_state=123.\n",
    "- Print the model weights.\n",
    "\n",
    "Ex: If the program input is heart_small.csv, which contains 100 instances, the output is:\n",
    "\n",
    "0.6\n",
    "\n",
    "w0: [0.013]\n",
    "w1 and w2: [[ 0.361 -0.087]]"
   ]
  },
  {
   "cell_type": "code",
   "execution_count": 32,
   "id": "08cfe80e-0a12-49fe-b251-5cc2d3defb93",
   "metadata": {},
   "outputs": [
    {
     "name": "stdout",
     "output_type": "stream",
     "text": [
      "Intercept (w0): [0.20903585]\n",
      "Weights (w1, w2, ...): [[-1.29422534e-03 -4.12408582e-01  3.21110486e-01 -4.16999495e-03\n",
      "  -1.08946319e-04  5.48225740e-02  2.41503288e-01  1.04181225e-02\n",
      "  -2.33050514e-01 -2.34613654e-01  3.60722327e-02 -2.59271314e-01\n",
      "  -3.33669551e-01]]\n",
      "Accuracy: 0.7763\n"
     ]
    }
   ],
   "source": [
    "import pandas as pd\n",
    "from sklearn.model_selection import train_test_split\n",
    "from sklearn.svm import LinearSVC\n",
    "from sklearn.metrics import accuracy_score\n",
    "\n",
    "# Load the dataset \n",
    "heart_data_small = pd.read_csv('heart.csv')  \n",
    "\n",
    "# Split the data into features (X) and target (y)\n",
    "# Assuming the target variable is in the last column and other columns are features\n",
    "X = heart_data_small.iloc[:, :-1]  # All columns except the last one\n",
    "y = heart_data_small.iloc[:, -1]   # Last column as the target variable (whether the patient has heart disease)\n",
    "\n",
    "# Split the dataset into 75% training data and 25% testing data, with random_state=123 for consistency\n",
    "X_train, X_test, y_train, y_test = train_test_split(X, y, test_size=0.25, random_state=123)\n",
    "\n",
    "# Initialize the LinearSVC model with C=0.2, max_iter=500, and random_state=123\n",
    "model = LinearSVC(C=0.2, max_iter=500, random_state=123)\n",
    "\n",
    "# Fit the model to the training data\n",
    "model.fit(X_train, y_train)\n",
    "\n",
    "# Print the intercept and model weights (coefficients)\n",
    "print(f'Intercept (w0): {model.intercept_}')\n",
    "print(f'Weights (w1, w2, ...): {model.coef_}')\n",
    "\n",
    "# Predict the class labels on the test set\n",
    "y_pred = model.predict(X_test)\n",
    "\n",
    "# Calculate the accuracy of the model\n",
    "accuracy = accuracy_score(y_test, y_pred)\n",
    "print(f'Accuracy: {accuracy:.4f}')\n"
   ]
  },
  {
   "cell_type": "markdown",
   "id": "ba71d1f1-8716-44a9-bf75-577b55c3ca82",
   "metadata": {},
   "source": [
    "## 4. k-Nearest Neighbors using scikit-learn \n",
    "The dataset SDSS contains 17 observational features and one class feature for 10000 deep sky objects observed by the Sloan Digital Sky Survey. Use sklearn's KNeighborsClassifier() function to perform kNN classification to classify each object by the object's redshift and u-g color.\n",
    "\n",
    "- Import the necessary modules for kNN classification\n",
    "- Create dataframe X with features redshift and u_g\n",
    "- Create dataframe y with feature class\n",
    "- Initialize a kNN model with k=3\n",
    "- Fit the model using the training data\n",
    "- Find the predicted classes for the test data\n",
    "- Calculate the accuracy score using the test data\n",
    "\n",
    "Ex: If the feature u is used rather than u_g, the output is:\n",
    "- Accuracy score is 0.979"
   ]
  },
  {
   "cell_type": "code",
   "execution_count": 19,
   "id": "4e2ceea9-ca61-4001-b0fa-5b0ef4b85f79",
   "metadata": {},
   "outputs": [
    {
     "name": "stdout",
     "output_type": "stream",
     "text": [
      "Accuracy: 0.978\n"
     ]
    }
   ],
   "source": [
    "import pandas as pd\n",
    "from sklearn.model_selection import train_test_split\n",
    "from sklearn.neighbors import KNeighborsClassifier\n",
    "from sklearn.metrics import accuracy_score\n",
    "\n",
    "# Load the dataset\n",
    "sdss_data = pd.read_csv('SDSS.csv')\n",
    "\n",
    "# Create dataframe X with features 'redshift' and 'u'\n",
    "X = sdss_data[['redshift', 'u']]\n",
    "\n",
    "# Create dataframe y with the class label\n",
    "y = sdss_data['class']\n",
    "\n",
    "# Split the dataset into 75% training data and 25% testing data\n",
    "X_train, X_test, y_train, y_test = train_test_split(X, y, test_size=0.25, random_state=42)\n",
    "\n",
    "# Initialize a k-NN model with k=3\n",
    "knn_model = KNeighborsClassifier(n_neighbors=3)\n",
    "\n",
    "# Fit the model using the training data\n",
    "knn_model.fit(X_train, y_train)\n",
    "\n",
    "# Predict the class labels for the test data\n",
    "y_pred = knn_model.predict(X_test)\n",
    "\n",
    "# Calculate the accuracy score\n",
    "accuracy = accuracy_score(y_test, y_pred)\n",
    "print(f'Accuracy: {accuracy:.3f}')"
   ]
  },
  {
   "cell_type": "markdown",
   "id": "3eb2adb6-a4d7-4bcd-8777-2dd8e013d324",
   "metadata": {},
   "source": [
    "## 5. Naive Bayes using scikit-learn "
   ]
  },
  {
   "cell_type": "markdown",
   "id": "493350b7-85b8-486b-b3c8-797425525e8d",
   "metadata": {},
   "source": [
    "The file SDSS contains 17 observational features and one class feature for 10000 deep sky objects observed by the Sloan Digital Sky Survey. Use sklearn's GaussianNB() function to perform Gaussian naive Bayes classification to classify each object by the object's redshift and u-g color.\n",
    "\n",
    "- Import the necessary modules for Gaussian naive Bayes classification\n",
    "- Create dataframe X with features redshift and u_g\n",
    "- Create dataframe y with feature class\n",
    "- Initialize a Gaussian naive Bayes model with the default parameters\n",
    "- Fit the model\n",
    "- Calculate the accuracy score\n",
    "\n",
    "Note: Use ravel() from numpy to flatten the second argument of GaussianNB.fit() into a 1-D array.\n",
    "\n",
    "Ex: If the feature u is used rather than u_g, the output is:\n",
    "\n",
    "- Accuracy score is 0.987"
   ]
  },
  {
   "cell_type": "code",
   "execution_count": 20,
   "id": "3604508a-dc4c-459b-9152-188228a5054d",
   "metadata": {},
   "outputs": [
    {
     "name": "stdout",
     "output_type": "stream",
     "text": [
      "Accuracy: 0.987\n"
     ]
    }
   ],
   "source": [
    "import pandas as pd\n",
    "from sklearn.model_selection import train_test_split\n",
    "from sklearn.naive_bayes import GaussianNB\n",
    "from sklearn.metrics import accuracy_score\n",
    "\n",
    "# Load the dataset\n",
    "sdss_data = pd.read_csv('SDSS.csv')\n",
    "\n",
    "# Create dataframe X with features 'redshift' and 'u'\n",
    "X = sdss_data[['redshift', 'u']]\n",
    "\n",
    "# Create dataframe y with the class label\n",
    "y = sdss_data['class']\n",
    "\n",
    "# Split the dataset into 75% training data and 25% testing data\n",
    "X_train, X_test, y_train, y_test = train_test_split(X, y, test_size=0.25, random_state=42)\n",
    "\n",
    "# Initialize the Gaussian Naive Bayes model\n",
    "gnb_model = GaussianNB()\n",
    "\n",
    "# Fit the model using the training data\n",
    "gnb_model.fit(X_train, y_train.ravel())\n",
    "\n",
    "# Predict the class labels for the test data\n",
    "y_pred = gnb_model.predict(X_test)\n",
    "\n",
    "# Calculate the accuracy score, rounded to 3 decimal places\n",
    "accuracy = accuracy_score(y_test, y_pred)\n",
    "print(f'Accuracy: {accuracy:.3f}')"
   ]
  },
  {
   "cell_type": "markdown",
   "id": "47228886-e0e2-4536-914e-1315f59cab62",
   "metadata": {},
   "source": [
    "## 6. Ensemble methods using scikit-learn "
   ]
  },
  {
   "cell_type": "markdown",
   "id": "c1e30f1a-214f-4495-8468-74004e473a0e",
   "metadata": {},
   "source": [
    "## 6.1. Bagging using scikit-learn \n",
    "The msleep_clean dataset contains information on sleep habits for 47 mammals. Features include length of REM sleep, time spent awake, brain weight, and body weight.\n",
    "\n",
    "- Create a dataframe X containing the features awake, brainwt, and bodywt, in that order.\n",
    "- Create a dataframe y containing sleep_rem.\n",
    "- Initialize and fit a bagging regressor with 30 base estimators, a random state of 10, and oob_score=True.\n",
    "\n",
    "Ex: If 10 base estimators are used, the output should be:\n",
    "\n",
    "0.2322\n",
    "\n",
    "[3.26   2.92   1.0333 2.3333 0.8    1.325  2.56   2.2667 0.8    2.38\n",
    " 3.     0.5333 3.175  2.9667 0.7    0.65   1.825  2.2667 2.     1.\n",
    " 0.6    1.1667 1.5    3.1    2.     1.9    4.15   1.3    0.75   1.2\n",
    " 2.025  1.45   3.0286 2.72   0.5    2.0333 1.12   2.     2.65   1.65\n",
    " 2.6667 2.3    1.45   0.58   2.625  1.6    0.74   1.3   ]"
   ]
  },
  {
   "cell_type": "code",
   "execution_count": 23,
   "id": "b5f86c9b-5dca-4e2c-bc0d-44bcac54b914",
   "metadata": {},
   "outputs": [
    {
     "name": "stdout",
     "output_type": "stream",
     "text": [
      "0.2322\n",
      "[3.26   2.92   1.0333 2.3333 0.8    1.325  2.56   2.2667 0.8    2.38\n",
      " 3.     0.5333 3.175  2.9667 0.7    0.65   1.825  2.2667 2.     1.\n",
      " 0.6    1.1667 1.5    3.1    2.     1.9    4.15   1.3    0.75   1.2\n",
      " 2.025  1.45   3.0286 2.72   0.5    2.0333 1.12   2.     2.65   1.65\n",
      " 2.6667 2.3    1.45   0.58   2.625  1.6    0.74   1.3   ]\n"
     ]
    }
   ],
   "source": [
    "import numpy as np\n",
    "import pandas as pd\n",
    "from sklearn.ensemble import BaggingRegressor\n",
    "\n",
    "# Load the dataset (make sure to replace with the correct path to 'msleep_clean.csv')\n",
    "df = pd.read_csv('msleep_clean.csv')\n",
    "\n",
    "# Create a dataframe X containing the features awake, brainwt, and bodywt, in that order\n",
    "X = df[['awake', 'brainwt', 'bodywt']]\n",
    "\n",
    "# Create a dataframe y containing sleep_rem\n",
    "y = df['sleep_rem']\n",
    "\n",
    "# Initialize and fit Bagging Regressor with 10 base estimators, random state of 10, and oob_score=True\n",
    "sleepModel = BaggingRegressor(n_estimators=10, random_state=10, oob_score=True)\n",
    "sleepModel.fit(X, y)\n",
    "\n",
    "# Calculate and print out-of-bag accuracy (rounded to 4 decimal places)\n",
    "print(np.round(sleepModel.oob_score_, 4))\n",
    "\n",
    "# Calculate and print predictions from out-of-bag estimate (rounded to 4 decimal places)\n",
    "print(np.round(sleepModel.oob_prediction_, 4))"
   ]
  },
  {
   "cell_type": "markdown",
   "id": "de60ca02-5530-41e4-a7c6-d5862b8554f6",
   "metadata": {},
   "source": [
    "## 6.2. Random forests using scikit-learn \n",
    "The mpg_clean.csv dataset contains information on miles per gallon (mpg) and engine size for cars sold from 1970 through 1982. Dataframe X contains the input features mpg, cylinders, displacement, horsepower, weight, acceleration, and model_year. Dataframe y contains the output feature origin.\n",
    "\n",
    "- Initialize and fit a random forest classifier with a user-input number of decision trees, estimator, a user-input number of features considered at each split, max_features, and a random state of 123.\n",
    "- Calculate the prediction accuracy for the model.\n",
    "- Read the documentation for the permutation_importance function from scikit-learn's inspection module.\n",
    "- Calculate the permutation importance using the default parameters and a random state of 123.\n",
    "\n",
    "Ex: When the input is\n",
    "\n",
    "5\n",
    "\n",
    "3\n",
    "\n",
    "the output is:\n",
    "\n",
    "0.9796\n",
    "\n",
    "\n",
    "     | Feature          | Permutation Importance |\n",
    "     |------------------|------------------------|\n",
    "    2| displacement     | 0.453571               |\n",
    "    0| mpg              | 0.160204               |\n",
    "    4| weight           | 0.133673               |\n",
    "    3| horsepower       | 0.107653               |\n",
    "    5| acceleration     | 0.057143               |\n",
    "    6| model_year       | 0.051531               |\n",
    "    1| cylinders        | 0.012245               |\n",
    "\n",
    "\n"
   ]
  },
  {
   "cell_type": "code",
   "execution_count": 27,
   "id": "c91ddba8-8bd1-42f4-ae22-9b5ed92ba0ef",
   "metadata": {},
   "outputs": [
    {
     "name": "stdin",
     "output_type": "stream",
     "text": [
      "Enter number of decision trees (e.g., 5):  5\n",
      "Enter number of features considered at each split (e.g., 3):  3\n"
     ]
    },
    {
     "name": "stdout",
     "output_type": "stream",
     "text": [
      "Accuracy: 0.7857\n",
      "\n",
      "| Feature               | Permutation Importance |\n",
      "|-----------------------|------------------------|\n",
      "| displacement          | 0.320408                |\n",
      "| weight                | 0.051020                |\n",
      "| horsepower            | 0.028571                |\n",
      "| model_year            | 0.022449                |\n",
      "| mpg                   | 0.010204                |\n",
      "| acceleration          | -0.000000               |\n",
      "| cylinders             | -0.012245               |\n"
     ]
    }
   ],
   "source": [
    "import pandas as pd\n",
    "from sklearn.ensemble import RandomForestClassifier\n",
    "from sklearn.model_selection import train_test_split\n",
    "from sklearn.metrics import accuracy_score\n",
    "from sklearn.inspection import permutation_importance\n",
    "from sklearn.preprocessing import LabelEncoder\n",
    "\n",
    "# Load the dataset\n",
    "df = pd.read_csv('mpg_clean.csv')  # Make sure the dataset is in the same directory as your script\n",
    "\n",
    "# Convert the target variable 'origin' to numeric values using LabelEncoder\n",
    "le = LabelEncoder()\n",
    "df['origin'] = le.fit_transform(df['origin'])\n",
    "\n",
    "# Create dataframe X with input features (mpg, cylinders, displacement, horsepower, weight, acceleration, model_year)\n",
    "X = df[['mpg', 'cylinders', 'displacement', 'horsepower', 'weight', 'acceleration', 'model_year']]\n",
    "\n",
    "# Create dataframe y with the output feature 'origin'\n",
    "y = df['origin']\n",
    "\n",
    "# Get user input for the number of decision trees (estimators) and number of features at each split (max_features)\n",
    "n_estimators = int(input(\"Enter number of decision trees (e.g., 5): \"))\n",
    "max_features = int(input(\"Enter number of features considered at each split (e.g., 3): \"))\n",
    "\n",
    "# Split the dataset into training and testing data (75% training, 25% testing)\n",
    "X_train, X_test, y_train, y_test = train_test_split(X, y, test_size=0.25, random_state=123)\n",
    "\n",
    "# Initialize and fit the Random Forest classifier with user-specified parameters\n",
    "rf_model = RandomForestClassifier(n_estimators=n_estimators, max_features=max_features, random_state=123)\n",
    "rf_model.fit(X_train, y_train)\n",
    "\n",
    "# Predict the class labels on the test set\n",
    "y_pred = rf_model.predict(X_test)\n",
    "\n",
    "# Calculate the accuracy of the model\n",
    "accuracy = accuracy_score(y_test, y_pred)\n",
    "print(f'Accuracy: {accuracy:.4f}')\n",
    "\n",
    "# Calculate the permutation importance using default parameters and random_state=123\n",
    "perm_importance = permutation_importance(rf_model, X_test, y_test, random_state=123)\n",
    "\n",
    "# Display the feature importance\n",
    "feature_names = X.columns\n",
    "print(\"\\n| Feature               | Permutation Importance |\")\n",
    "print(\"|-----------------------|------------------------|\")\n",
    "for i in perm_importance.importances_mean.argsort()[::-1]:\n",
    "    print(f\"| {feature_names[i]:<21} | {perm_importance.importances_mean[i]:<23.6f} |\")"
   ]
  },
  {
   "cell_type": "markdown",
   "id": "942139db-9cb7-410b-83c0-bacd96b7ebd4",
   "metadata": {},
   "source": [
    "## 6.3. Boosting using scikit-learn \n",
    "The mpg.csv dataset contains information on miles per gallon (mpg) and engine size for cars sold from 1970 through 1982.\n",
    "\n",
    "- Create a dataframe X containing the input features cylinders, weight, and mpg.\n",
    "- Create a dataframe y containing the output feature origin.\n",
    "- Initialize and fit an adaptive boosting classifier with a user-input learning rate lr and a random state of 123.\n",
    "- Initialize and fit a gradient boosting classifier with a user-input learning rate lr and a random state of 123.\n",
    "- Calculate the prediction accuracy for each model.\n",
    "\n",
    "Ex: If the user-input learning rate is 0.6, the output is:\n",
    "\n",
    "0.7688\n",
    "\n",
    "0.995"
   ]
  },
  {
   "cell_type": "code",
   "execution_count": 29,
   "id": "5ccfd231-868f-4499-907a-1fb23106738d",
   "metadata": {},
   "outputs": [
    {
     "name": "stdin",
     "output_type": "stream",
     "text": [
      "Enter learning rate (e.g., 0.6):  0.6\n"
     ]
    },
    {
     "name": "stdout",
     "output_type": "stream",
     "text": [
      "Accuracy of AdaBoost: 0.62\n",
      "Accuracy of Gradient Boosting: 0.68\n"
     ]
    }
   ],
   "source": [
    "import numpy as np\n",
    "import pandas as pd\n",
    "from sklearn.ensemble import GradientBoostingClassifier, AdaBoostClassifier\n",
    "from sklearn.model_selection import train_test_split\n",
    "from sklearn.metrics import accuracy_score\n",
    "\n",
    "# Load the dataset (ensure 'mpg.csv' is in the correct path)\n",
    "mpg = pd.read_csv('mpg.csv')\n",
    "\n",
    "# Create a dataframe X containing the input features cylinders, weight, and mpg\n",
    "X = mpg[['cylinders', 'weight', 'mpg']]\n",
    "\n",
    "# Create a dataframe y containing the output feature 'origin'\n",
    "y = mpg['origin']\n",
    "\n",
    "# Get user-input learning rate\n",
    "lr = float(input(\"Enter learning rate (e.g., 0.6): \"))\n",
    "\n",
    "# Split the dataset into 75% training and 25% testing data\n",
    "X_train, X_test, y_train, y_test = train_test_split(X, y, test_size=0.25, random_state=123)\n",
    "\n",
    "# Initialize and fit an adaptive boosting classifier (AdaBoost) with the user-input learning rate and random_state=123\n",
    "adaBoostModel = AdaBoostClassifier(learning_rate=lr, random_state=123)\n",
    "adaBoostModel.fit(X_train, y_train)\n",
    "\n",
    "# Initialize and fit a gradient boosting classifier with the user-input learning rate and random_state=123\n",
    "gradientBoostModel = GradientBoostingClassifier(learning_rate=lr, random_state=123)\n",
    "gradientBoostModel.fit(X_train, y_train)\n",
    "\n",
    "# Calculate the prediction accuracy for the AdaBoost classifier\n",
    "adaBoostScore = accuracy_score(y_test, adaBoostModel.predict(X_test))\n",
    "print(f'Accuracy of AdaBoost: {round(adaBoostScore, 4)}')\n",
    "\n",
    "# Calculate the prediction accuracy for the Gradient Boosting classifier\n",
    "gradientBoostScore = accuracy_score(y_test, gradientBoostModel.predict(X_test))\n",
    "print(f'Accuracy of Gradient Boosting: {round(gradientBoostScore, 4)}')"
   ]
  },
  {
   "cell_type": "code",
   "execution_count": null,
   "id": "2e59e220-2de2-4030-9abd-4bd3a7143a60",
   "metadata": {},
   "outputs": [],
   "source": []
  }
 ],
 "metadata": {
  "kernelspec": {
   "display_name": "Python 3 (ipykernel)",
   "language": "python",
   "name": "python3"
  },
  "language_info": {
   "codemirror_mode": {
    "name": "ipython",
    "version": 3
   },
   "file_extension": ".py",
   "mimetype": "text/x-python",
   "name": "python",
   "nbconvert_exporter": "python",
   "pygments_lexer": "ipython3",
   "version": "3.10.11"
  }
 },
 "nbformat": 4,
 "nbformat_minor": 5
}
